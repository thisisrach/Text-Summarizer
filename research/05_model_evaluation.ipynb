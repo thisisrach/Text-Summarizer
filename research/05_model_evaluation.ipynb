{
 "cells": [
  {
   "cell_type": "code",
   "execution_count": 1,
   "metadata": {},
   "outputs": [],
   "source": [
    "import os"
   ]
  },
  {
   "cell_type": "code",
   "execution_count": 2,
   "metadata": {},
   "outputs": [
    {
     "data": {
      "text/plain": [
       "'e:\\\\Text-Summarizer\\\\research'"
      ]
     },
     "execution_count": 2,
     "metadata": {},
     "output_type": "execute_result"
    }
   ],
   "source": [
    "%pwd"
   ]
  },
  {
   "cell_type": "code",
   "execution_count": 3,
   "metadata": {},
   "outputs": [],
   "source": [
    "os.chdir(\"../\")"
   ]
  },
  {
   "cell_type": "code",
   "execution_count": 4,
   "metadata": {},
   "outputs": [
    {
     "data": {
      "text/plain": [
       "'e:\\\\Text-Summarizer'"
      ]
     },
     "execution_count": 4,
     "metadata": {},
     "output_type": "execute_result"
    }
   ],
   "source": [
    "%pwd"
   ]
  },
  {
   "cell_type": "code",
   "execution_count": 5,
   "metadata": {},
   "outputs": [],
   "source": [
    "\n",
    "from dataclasses import dataclass\n",
    "from pathlib import Path\n",
    "\n",
    "\n",
    "@dataclass(frozen=True)\n",
    "class ModelEvaluationConfig:\n",
    "    root_dir: Path\n",
    "    data_path: Path\n",
    "    model_path: Path\n",
    "    tokenizer_path: Path\n",
    "    metric_file_name: Path"
   ]
  },
  {
   "cell_type": "code",
   "execution_count": 6,
   "metadata": {},
   "outputs": [],
   "source": [
    "from src.textSummarizer.constants import *\n",
    "from src.textSummarizer.utils.common import read_yaml, create_directories"
   ]
  },
  {
   "cell_type": "code",
   "execution_count": 7,
   "metadata": {},
   "outputs": [],
   "source": [
    "class ConfigurationManager:\n",
    "    def __init__(\n",
    "        self,\n",
    "        config_filepath = CONFIG_FILE_PATH,\n",
    "        params_filepath = PARAMS_FILE_PATH):\n",
    "\n",
    "        self.config = read_yaml(config_filepath)\n",
    "        self.params = read_yaml(params_filepath)\n",
    "\n",
    "        create_directories([self.config.artifacts_root])\n",
    "\n",
    "\n",
    "    \n",
    "    def get_model_evaluation_config(self) -> ModelEvaluationConfig:\n",
    "        config = self.config.model_evaluation\n",
    "\n",
    "        create_directories([config.root_dir])\n",
    "\n",
    "        model_evaluation_config = ModelEvaluationConfig(\n",
    "            root_dir=config.root_dir,\n",
    "            data_path=config.data_path,\n",
    "            model_path = config.model_path,\n",
    "            tokenizer_path = config.tokenizer_path,\n",
    "            metric_file_name = config.metric_file_name\n",
    "           \n",
    "        )\n",
    "\n",
    "        return model_evaluation_config"
   ]
  },
  {
   "cell_type": "code",
   "execution_count": 8,
   "metadata": {},
   "outputs": [
    {
     "name": "stderr",
     "output_type": "stream",
     "text": [
      "e:\\Users\\RJ\\anaconda3\\envs\\textSummarizer\\lib\\site-packages\\tqdm\\auto.py:21: TqdmWarning: IProgress not found. Please update jupyter and ipywidgets. See https://ipywidgets.readthedocs.io/en/stable/user_install.html\n",
      "  from .autonotebook import tqdm as notebook_tqdm\n"
     ]
    },
    {
     "name": "stdout",
     "output_type": "stream",
     "text": [
      "[2024-05-27 18:47:06,938: INFO: config: PyTorch version 2.3.0 available.]\n"
     ]
    }
   ],
   "source": [
    "\n",
    "from transformers import AutoModelForSeq2SeqLM, AutoTokenizer\n",
    "from datasets import load_dataset, load_from_disk, load_metric\n",
    "import torch\n",
    "import pandas as pd\n",
    "from tqdm import tqdm"
   ]
  },
  {
   "cell_type": "code",
   "execution_count": 9,
   "metadata": {},
   "outputs": [],
   "source": [
    "class ModelEvaluation:\n",
    "    def __init__(self, config: ModelEvaluationConfig):\n",
    "        self.config = config\n",
    "\n",
    "\n",
    "    \n",
    "    def generate_batch_sized_chunks(self,list_of_elements, batch_size):\n",
    "        \"\"\"split the dataset into smaller batches that we can process simultaneously\n",
    "        Yield successive batch-sized chunks from list_of_elements.\"\"\"\n",
    "        for i in range(0, len(list_of_elements), batch_size):\n",
    "            yield list_of_elements[i : i + batch_size]\n",
    "\n",
    "    \n",
    "    def calculate_metric_on_test_ds(self,dataset, metric, model, tokenizer, \n",
    "                               batch_size=16, device=\"cuda\" if torch.cuda.is_available() else \"cpu\", \n",
    "                               column_text=\"article\", \n",
    "                               column_summary=\"highlights\"):\n",
    "        article_batches = list(self.generate_batch_sized_chunks(dataset[column_text], batch_size))\n",
    "        target_batches = list(self.generate_batch_sized_chunks(dataset[column_summary], batch_size))\n",
    "\n",
    "        for article_batch, target_batch in tqdm(\n",
    "            zip(article_batches, target_batches), total=len(article_batches)):\n",
    "            \n",
    "            inputs = tokenizer(article_batch, max_length=1024,  truncation=True, \n",
    "                            padding=\"max_length\", return_tensors=\"pt\")\n",
    "            \n",
    "            summaries = model.generate(input_ids=inputs[\"input_ids\"].to(device),\n",
    "                            attention_mask=inputs[\"attention_mask\"].to(device), \n",
    "                            length_penalty=0.8, num_beams=8, max_length=128)\n",
    "            ''' parameter for length penalty ensures that the model does not generate sequences that are too long. '''\n",
    "            \n",
    "            # Finally, we decode the generated texts, \n",
    "            # replace the  token, and add the decoded texts with the references to the metric.\n",
    "            decoded_summaries = [tokenizer.decode(s, skip_special_tokens=True, \n",
    "                                    clean_up_tokenization_spaces=True) \n",
    "                for s in summaries]      \n",
    "            \n",
    "            decoded_summaries = [d.replace(\"\", \" \") for d in decoded_summaries]\n",
    "            \n",
    "            \n",
    "            metric.add_batch(predictions=decoded_summaries, references=target_batch)\n",
    "            \n",
    "        #  Finally compute and return the ROUGE scores.\n",
    "        score = metric.compute()\n",
    "        return score\n",
    "\n",
    "\n",
    "    def evaluate(self):\n",
    "        device = \"cuda\" if torch.cuda.is_available() else \"cpu\"\n",
    "        tokenizer = AutoTokenizer.from_pretrained(self.config.tokenizer_path)\n",
    "        model_pegasus = AutoModelForSeq2SeqLM.from_pretrained(self.config.model_path).to(device)\n",
    "       \n",
    "        #loading data \n",
    "        dataset_samsum_pt = load_from_disk(self.config.data_path)\n",
    "\n",
    "\n",
    "        rouge_names = [\"rouge1\", \"rouge2\", \"rougeL\", \"rougeLsum\"]\n",
    "  \n",
    "        rouge_metric = load_metric('rouge')\n",
    "\n",
    "        score = self.calculate_metric_on_test_ds(\n",
    "        dataset_samsum_pt['test'][0:10], rouge_metric, model_pegasus, tokenizer, batch_size = 2, column_text = 'dialogue', column_summary= 'summary'\n",
    "            )\n",
    "\n",
    "        rouge_dict = dict((rn, score[rn].mid.fmeasure ) for rn in rouge_names )\n",
    "\n",
    "        df = pd.DataFrame(rouge_dict, index = ['pegasus'] )\n",
    "        df.to_csv(self.config.metric_file_name, index=False)"
   ]
  },
  {
   "cell_type": "code",
   "execution_count": 13,
   "metadata": {},
   "outputs": [
    {
     "name": "stdout",
     "output_type": "stream",
     "text": [
      "[2024-05-27 18:48:59,962: INFO: common: yaml file: config\\config.yaml loaded successfully]\n"
     ]
    },
    {
     "name": "stdout",
     "output_type": "stream",
     "text": [
      "[2024-05-27 18:49:00,001: INFO: common: yaml file: params.yaml loaded successfully]\n",
      "[2024-05-27 18:49:00,008: INFO: common: created directory at: artifacts]\n",
      "[2024-05-27 18:49:00,031: INFO: common: created directory at: artifacts/model_evaluation]\n"
     ]
    },
    {
     "name": "stderr",
     "output_type": "stream",
     "text": [
      "e:\\Users\\RJ\\anaconda3\\envs\\textSummarizer\\lib\\site-packages\\datasets\\load.py:759: FutureWarning: The repository for rouge contains custom code which must be executed to correctly load the metric. You can inspect the repository content at https://raw.githubusercontent.com/huggingface/datasets/2.19.1/metrics/rouge/rouge.py\n",
      "You can avoid this message in future by passing the argument `trust_remote_code=True`.\n",
      "Passing `trust_remote_code=True` will be mandatory to load this metric from the next major release of `datasets`.\n",
      "  warnings.warn(\n",
      "100%|██████████| 5/5 [05:38<00:00, 67.60s/it]\n"
     ]
    },
    {
     "name": "stdout",
     "output_type": "stream",
     "text": [
      "[2024-05-27 18:54:54,520: INFO: rouge_scorer: Using default tokenizer.]\n"
     ]
    }
   ],
   "source": [
    "try:\n",
    "    config = ConfigurationManager()\n",
    "    model_evaluation_config = config.get_model_evaluation_config()\n",
    "    model_evaluation_config = ModelEvaluation(config=model_evaluation_config)\n",
    "    model_evaluation_config.evaluate()\n",
    "except Exception as e:\n",
    "    raise e"
   ]
  },
  {
   "cell_type": "code",
   "execution_count": 12,
   "metadata": {},
   "outputs": [
    {
     "name": "stdout",
     "output_type": "stream",
     "text": [
      "Collecting absl-py\n",
      "  Using cached absl_py-2.1.0-py3-none-any.whl.metadata (2.3 kB)\n",
      "Collecting nltk\n",
      "  Using cached nltk-3.8.1-py3-none-any.whl.metadata (2.8 kB)\n",
      "Collecting rouge-score\n",
      "  Using cached rouge_score-0.1.2.tar.gz (17 kB)\n",
      "  Preparing metadata (setup.py): started\n",
      "  Preparing metadata (setup.py): finished with status 'done'\n",
      "Collecting click (from nltk)\n",
      "  Using cached click-8.1.7-py3-none-any.whl.metadata (3.0 kB)\n",
      "Collecting joblib (from nltk)\n",
      "  Downloading joblib-1.4.2-py3-none-any.whl.metadata (5.4 kB)\n",
      "Requirement already satisfied: regex>=2021.8.3 in e:\\users\\rj\\anaconda3\\envs\\textsummarizer\\lib\\site-packages (from nltk) (2024.5.15)\n",
      "Requirement already satisfied: tqdm in e:\\users\\rj\\anaconda3\\envs\\textsummarizer\\lib\\site-packages (from nltk) (4.66.4)\n",
      "Requirement already satisfied: numpy in e:\\users\\rj\\anaconda3\\envs\\textsummarizer\\lib\\site-packages (from rouge-score) (1.24.4)\n",
      "Requirement already satisfied: six>=1.14.0 in e:\\users\\rj\\anaconda3\\envs\\textsummarizer\\lib\\site-packages (from rouge-score) (1.16.0)\n",
      "Requirement already satisfied: colorama in e:\\users\\rj\\anaconda3\\envs\\textsummarizer\\lib\\site-packages (from click->nltk) (0.4.6)\n",
      "Using cached absl_py-2.1.0-py3-none-any.whl (133 kB)\n",
      "Downloading nltk-3.8.1-py3-none-any.whl (1.5 MB)\n",
      "   ---------------------------------------- 0.0/1.5 MB ? eta -:--:--\n",
      "   ---------------------------------------- 0.0/1.5 MB ? eta -:--:--\n",
      "   ---------------------------------------- 0.0/1.5 MB ? eta -:--:--\n",
      "    --------------------------------------- 0.0/1.5 MB 163.8 kB/s eta 0:00:10\n",
      "    --------------------------------------- 0.0/1.5 MB 163.8 kB/s eta 0:00:10\n",
      "   - -------------------------------------- 0.1/1.5 MB 251.0 kB/s eta 0:00:06\n",
      "   - -------------------------------------- 0.1/1.5 MB 206.9 kB/s eta 0:00:07\n",
      "   ---- ----------------------------------- 0.2/1.5 MB 458.0 kB/s eta 0:00:03\n",
      "   ----- ---------------------------------- 0.2/1.5 MB 452.9 kB/s eta 0:00:03\n",
      "   ----- ---------------------------------- 0.2/1.5 MB 452.9 kB/s eta 0:00:03\n",
      "   ------ --------------------------------- 0.2/1.5 MB 436.6 kB/s eta 0:00:03\n",
      "   ------ --------------------------------- 0.2/1.5 MB 436.6 kB/s eta 0:00:03\n",
      "   -------- ------------------------------- 0.3/1.5 MB 475.1 kB/s eta 0:00:03\n",
      "   -------- ------------------------------- 0.3/1.5 MB 475.1 kB/s eta 0:00:03\n",
      "   -------- ------------------------------- 0.3/1.5 MB 436.4 kB/s eta 0:00:03\n",
      "   -------- ------------------------------- 0.3/1.5 MB 436.4 kB/s eta 0:00:03\n",
      "   --------- ------------------------------ 0.4/1.5 MB 449.7 kB/s eta 0:00:03\n",
      "   --------- ------------------------------ 0.4/1.5 MB 449.7 kB/s eta 0:00:03\n",
      "   ------------- -------------------------- 0.5/1.5 MB 530.6 kB/s eta 0:00:02\n",
      "   --------------- ------------------------ 0.6/1.5 MB 563.2 kB/s eta 0:00:02\n",
      "   --------------- ------------------------ 0.6/1.5 MB 574.5 kB/s eta 0:00:02\n",
      "   --------------- ------------------------ 0.6/1.5 MB 574.5 kB/s eta 0:00:02\n",
      "   ------------------ --------------------- 0.7/1.5 MB 619.2 kB/s eta 0:00:02\n",
      "   ------------------- -------------------- 0.7/1.5 MB 612.4 kB/s eta 0:00:02\n",
      "   --------------------- ------------------ 0.8/1.5 MB 671.9 kB/s eta 0:00:02\n",
      "   --------------------- ------------------ 0.8/1.5 MB 671.9 kB/s eta 0:00:02\n",
      "   ------------------------ --------------- 0.9/1.5 MB 686.3 kB/s eta 0:00:01\n",
      "   ------------------------ --------------- 0.9/1.5 MB 686.3 kB/s eta 0:00:01\n",
      "   ------------------------ --------------- 0.9/1.5 MB 686.3 kB/s eta 0:00:01\n",
      "   ------------------------ --------------- 0.9/1.5 MB 686.3 kB/s eta 0:00:01\n",
      "   --------------------------- ------------ 1.0/1.5 MB 682.2 kB/s eta 0:00:01\n",
      "   --------------------------- ------------ 1.0/1.5 MB 682.2 kB/s eta 0:00:01\n",
      "   ---------------------------- ----------- 1.1/1.5 MB 661.5 kB/s eta 0:00:01\n",
      "   ---------------------------- ----------- 1.1/1.5 MB 661.5 kB/s eta 0:00:01\n",
      "   ------------------------------ --------- 1.1/1.5 MB 667.0 kB/s eta 0:00:01\n",
      "   ------------------------------ --------- 1.1/1.5 MB 667.0 kB/s eta 0:00:01\n",
      "   ------------------------------- -------- 1.2/1.5 MB 649.5 kB/s eta 0:00:01\n",
      "   -------------------------------- ------- 1.2/1.5 MB 666.4 kB/s eta 0:00:01\n",
      "   ---------------------------------- ----- 1.3/1.5 MB 676.9 kB/s eta 0:00:01\n",
      "   ---------------------------------- ----- 1.3/1.5 MB 676.9 kB/s eta 0:00:01\n",
      "   ------------------------------------ --- 1.4/1.5 MB 675.8 kB/s eta 0:00:01\n",
      "   ------------------------------------ --- 1.4/1.5 MB 675.8 kB/s eta 0:00:01\n",
      "   -------------------------------------- - 1.4/1.5 MB 679.4 kB/s eta 0:00:01\n",
      "   -------------------------------------- - 1.4/1.5 MB 679.4 kB/s eta 0:00:01\n",
      "   ---------------------------------------- 1.5/1.5 MB 676.2 kB/s eta 0:00:00\n",
      "Using cached click-8.1.7-py3-none-any.whl (97 kB)\n",
      "Downloading joblib-1.4.2-py3-none-any.whl (301 kB)\n",
      "   ---------------------------------------- 0.0/301.8 kB ? eta -:--:--\n",
      "   ----- ---------------------------------- 41.0/301.8 kB ? eta -:--:--\n",
      "   ------- ------------------------------- 61.4/301.8 kB 656.4 kB/s eta 0:00:01\n",
      "   ------- ------------------------------- 61.4/301.8 kB 656.4 kB/s eta 0:00:01\n",
      "   ---------- ---------------------------- 81.9/301.8 kB 416.7 kB/s eta 0:00:01\n",
      "   ----------- --------------------------- 92.2/301.8 kB 403.5 kB/s eta 0:00:01\n",
      "   ------------------ ------------------- 143.4/301.8 kB 448.2 kB/s eta 0:00:01\n",
      "   ------------------ ------------------- 143.4/301.8 kB 448.2 kB/s eta 0:00:01\n",
      "   ---------------------------- --------- 225.3/301.8 kB 573.4 kB/s eta 0:00:01\n",
      "   ---------------------------- --------- 225.3/301.8 kB 573.4 kB/s eta 0:00:01\n",
      "   ------------------------------------ - 286.7/301.8 kB 571.2 kB/s eta 0:00:01\n",
      "   ------------------------------------ - 286.7/301.8 kB 571.2 kB/s eta 0:00:01\n",
      "   -------------------------------------- 301.8/301.8 kB 490.9 kB/s eta 0:00:00\n",
      "Building wheels for collected packages: rouge-score\n",
      "  Building wheel for rouge-score (setup.py): started\n",
      "  Building wheel for rouge-score (setup.py): finished with status 'done'\n",
      "  Created wheel for rouge-score: filename=rouge_score-0.1.2-py3-none-any.whl size=24972 sha256=1dad311538039c7f8ba95c8b24aa92a71c52c375d6ff4eba0388919766ecc473\n",
      "  Stored in directory: c:\\users\\rachi\\appdata\\local\\pip\\cache\\wheels\\24\\55\\6f\\ebfc4cb176d1c9665da4e306e1705496206d08215c1acd9dde\n",
      "Successfully built rouge-score\n",
      "Installing collected packages: joblib, click, absl-py, nltk, rouge-score\n",
      "Successfully installed absl-py-2.1.0 click-8.1.7 joblib-1.4.2 nltk-3.8.1 rouge-score-0.1.2\n",
      "Note: you may need to restart the kernel to use updated packages.\n"
     ]
    }
   ],
   "source": [
    "pip install absl-py nltk rouge-score\n"
   ]
  },
  {
   "cell_type": "code",
   "execution_count": null,
   "metadata": {},
   "outputs": [],
   "source": []
  }
 ],
 "metadata": {
  "kernelspec": {
   "display_name": "textSummarizer",
   "language": "python",
   "name": "python3"
  },
  "language_info": {
   "codemirror_mode": {
    "name": "ipython",
    "version": 3
   },
   "file_extension": ".py",
   "mimetype": "text/x-python",
   "name": "python",
   "nbconvert_exporter": "python",
   "pygments_lexer": "ipython3",
   "version": "3.8.19"
  }
 },
 "nbformat": 4,
 "nbformat_minor": 2
}
